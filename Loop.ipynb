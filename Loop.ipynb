{
 "cells": [
  {
   "cell_type": "code",
   "execution_count": 4,
   "metadata": {},
   "outputs": [
    {
     "name": "stdout",
     "output_type": "stream",
     "text": [
      "1\n",
      "2\n",
      "3\n",
      "4\n",
      "5\n"
     ]
    }
   ],
   "source": [
    "number = 1 \n",
    "while number <= 5: \n",
    "    print(number)\n",
    "    number += 1"
   ]
  },
  {
   "cell_type": "code",
   "execution_count": 5,
   "metadata": {},
   "outputs": [
    {
     "name": "stdout",
     "output_type": "stream",
     "text": [
      "10\n",
      "20\n",
      "30\n",
      "40\n",
      "50\n",
      "60\n"
     ]
    }
   ],
   "source": [
    "number = 10\n",
    "while number <= 60:\n",
    "    print(number)\n",
    "    number += 10"
   ]
  },
  {
   "cell_type": "code",
   "execution_count": 8,
   "metadata": {},
   "outputs": [
    {
     "name": "stdout",
     "output_type": "stream",
     "text": [
      "0\n",
      "1\n",
      "2\n"
     ]
    }
   ],
   "source": [
    "a = 0\n",
    "b = 3\n",
    "while a < b:\n",
    "    print(a)\n",
    "    a = a+1"
   ]
  },
  {
   "cell_type": "code",
   "execution_count": null,
   "metadata": {},
   "outputs": [
    {
     "name": "stdout",
     "output_type": "stream",
     "text": [
      "7 is less than 100\n",
      "a is now  17 \n",
      "\n",
      "17 is less than 100\n",
      "a is now  27 \n",
      "\n",
      "27 is less than 100\n",
      "a is now  37 \n",
      "\n",
      "37 is less than 100\n",
      "a is now  47 \n",
      "\n",
      "47 is less than 100\n",
      "a is now  57 \n",
      "\n",
      "57 is less than 100\n",
      "a is now  67 \n",
      "\n",
      "67 is less than 100\n",
      "a is now  77 \n",
      "\n",
      "77 is less than 100\n",
      "a is now  87 \n",
      "\n",
      "87 is less than 100\n",
      "a is now  97 \n",
      "\n",
      "97 is less than 100\n",
      "a is now  107 \n",
      "\n"
     ]
    }
   ],
   "source": [
    "a = 7\n",
    "while a <= 100:\n",
    "        print(a, 'is less than 100')\n",
    "        a = a + 10\n",
    "        print('a is now ', a, '\\n')"
   ]
  },
  {
   "cell_type": "code",
   "execution_count": 12,
   "metadata": {},
   "outputs": [
    {
     "name": "stdout",
     "output_type": "stream",
     "text": [
      "X is currently 0\n",
      "Adding 1 to x \n",
      "\n",
      "X is currently 1\n",
      "Adding 1 to x \n",
      "\n",
      "X is currently 2\n",
      "Adding 1 to x \n",
      "\n"
     ]
    }
   ],
   "source": [
    "x = 0\n",
    "while x < 3:\n",
    "        print('X is currently', x)\n",
    "        print(\"Adding 1 to x\", '\\n')\n",
    "        x = x + 1 "
   ]
  }
 ],
 "metadata": {
  "kernelspec": {
   "display_name": "Python 3",
   "language": "python",
   "name": "python3"
  },
  "language_info": {
   "codemirror_mode": {
    "name": "ipython",
    "version": 3
   },
   "file_extension": ".py",
   "mimetype": "text/x-python",
   "name": "python",
   "nbconvert_exporter": "python",
   "pygments_lexer": "ipython3",
   "version": "3.12.7"
  }
 },
 "nbformat": 4,
 "nbformat_minor": 2
}
