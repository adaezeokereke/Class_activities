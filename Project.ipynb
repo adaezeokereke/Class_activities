{
 "cells": [
  {
   "cell_type": "code",
   "execution_count": null,
   "metadata": {},
   "outputs": [],
   "source": [
    "#STUDENT GRADE ANALYSIS\n",
    "\n",
    "Students = {'Amanda Jimoh': '80',\n",
    "            'Bisola Alabi': '50',\n",
    "            'Jemima Osunde': '60',\n",
    "            'Ibrahim Dutse':'65',\n",
    "            'John Alausa' :'70',\n",
    "            'Jessica Okonkwo':'40',\n",
    "            'Thomas Kings': '78',\n",
    "            'Ada George': '68'\n",
    "            }\n",
    "if 60>50:\n",
    "    print(\"B\")\n",
    "\n",
    "if 80>50:\n",
    "    print(\"A\")\n",
    "\n",
    "if \n",
    "\n"
   ]
  },
  {
   "cell_type": "code",
   "execution_count": 19,
   "metadata": {},
   "outputs": [],
   "source": [
    "#SIMPLE INVENTORY TO TRACK PRODUCTS\n",
    "global product\n",
    "product = {} #dictionary to store products\n",
    "\n",
    "\n",
    "def add_product(name, quantity,price):\n",
    "\n",
    "    if name in product:\n",
    "        print(f\"{name} already exists. use update_product to modify it.\")\n",
    "    else:\n",
    "        product[name]={\"quantity\":quantity, \"price\":price}\n",
    "        print(f\"{name} added to inventory.\")\n"
   ]
  },
  {
   "cell_type": "code",
   "execution_count": 20,
   "metadata": {},
   "outputs": [
    {
     "name": "stdout",
     "output_type": "stream",
     "text": [
      "Rice added to inventory.\n"
     ]
    }
   ],
   "source": [
    "add_product(\"Rice\",12,12000)\n"
   ]
  },
  {
   "cell_type": "code",
   "execution_count": 21,
   "metadata": {},
   "outputs": [
    {
     "name": "stdout",
     "output_type": "stream",
     "text": [
      "beans added to inventory.\n"
     ]
    }
   ],
   "source": [
    "add_product(\"beans\", 5, 5000)"
   ]
  },
  {
   "cell_type": "code",
   "execution_count": 22,
   "metadata": {},
   "outputs": [
    {
     "name": "stdout",
     "output_type": "stream",
     "text": [
      "yam added to inventory.\n"
     ]
    }
   ],
   "source": [
    "add_product(\"yam\", 4, 3000)"
   ]
  },
  {
   "cell_type": "code",
   "execution_count": 23,
   "metadata": {},
   "outputs": [
    {
     "name": "stdout",
     "output_type": "stream",
     "text": [
      "maggi added to inventory.\n"
     ]
    }
   ],
   "source": [
    "add_product(\"maggi\",8,600)"
   ]
  },
  {
   "cell_type": "code",
   "execution_count": 24,
   "metadata": {},
   "outputs": [
    {
     "name": "stdout",
     "output_type": "stream",
     "text": [
      "garri added to inventory.\n"
     ]
    }
   ],
   "source": [
    "add_product(\"garri\",5,3000)"
   ]
  },
  {
   "cell_type": "code",
   "execution_count": 25,
   "metadata": {},
   "outputs": [
    {
     "data": {
      "text/plain": [
       "{'Rice': {'quantity': 12, 'price': 12000},\n",
       " 'beans': {'quantity': 5, 'price': 5000},\n",
       " 'yam': {'quantity': 4, 'price': 3000},\n",
       " 'maggi': {'quantity': 8, 'price': 600},\n",
       " 'garri': {'quantity': 5, 'price': 3000}}"
      ]
     },
     "execution_count": 25,
     "metadata": {},
     "output_type": "execute_result"
    }
   ],
   "source": [
    "product\n"
   ]
  },
  {
   "cell_type": "code",
   "execution_count": 28,
   "metadata": {},
   "outputs": [
    {
     "ename": "TypeError",
     "evalue": "'>' not supported between instances of 'dict' and 'int'",
     "output_type": "error",
     "traceback": [
      "\u001b[1;31m---------------------------------------------------------------------------\u001b[0m",
      "\u001b[1;31mTypeError\u001b[0m                                 Traceback (most recent call last)",
      "Cell \u001b[1;32mIn[28], line 16\u001b[0m\n\u001b[0;32m     14\u001b[0m     D \u001b[38;5;241m=\u001b[39m \u001b[38;5;241m40\u001b[39m \u001b[38;5;241m-\u001b[39m \u001b[38;5;241m49\u001b[39m\n\u001b[0;32m     15\u001b[0m     F \u001b[38;5;241m=\u001b[39m \u001b[38;5;241m39\u001b[39m \u001b[38;5;241m-\u001b[39m \u001b[38;5;241m0\u001b[39m\n\u001b[1;32m---> 16\u001b[0m \u001b[38;5;28;01mif\u001b[39;00m \u001b[43mstudent\u001b[49m\u001b[43m \u001b[49m\u001b[38;5;241;43m>\u001b[39;49m\u001b[43m \u001b[49m\u001b[38;5;241;43m70\u001b[39;49m:\n\u001b[0;32m     17\u001b[0m     \u001b[38;5;28mprint\u001b[39m(\u001b[38;5;124mf\u001b[39m\u001b[38;5;124m\"\u001b[39m\u001b[38;5;132;01m{\u001b[39;00mstudent_name\u001b[38;5;132;01m}\u001b[39;00m\u001b[38;5;124m \u001b[39m\u001b[38;5;124m\"\u001b[39m \u001b[38;5;124m\"\u001b[39m\u001b[38;5;124m A\u001b[39m\u001b[38;5;124m\"\u001b[39m)\n\u001b[0;32m     18\u001b[0m \u001b[38;5;28;01mif\u001b[39;00m student \u001b[38;5;241m>\u001b[39m \u001b[38;5;241m60\u001b[39m:\n",
      "\u001b[1;31mTypeError\u001b[0m: '>' not supported between instances of 'dict' and 'int'"
     ]
    }
   ],
   "source": [
    "#STUDENT GRADE ANALYZER\n",
    "global student\n",
    "student = {} #dictionary to store students grades\n",
    "\n",
    "def student_name(name):\n",
    "    if name in student_name:\n",
    "        print(f\"{name} already exists. use update.student_name to modify it\")\n",
    "        print(f\"{name} added to student list\")\n",
    "\n",
    "def student_grade(grade):\n",
    "    A = 70 - 100\n",
    "    B = 60 - 69\n",
    "    C = 50 - 59\n",
    "    D = 40 - 49\n",
    "    F = 39 - 0\n",
    "if student > 70:\n",
    "    print(f\"{student_name} \" \" A\")\n",
    "if student > 60:\n",
    "    print(f\"{student_name} \" \" B\")\n",
    "if student > 50:\n",
    "    print(f\"{student_name} \" \" C\")\n",
    "if student > 40:\n",
    "    print(f\"{student_name} \" \" D\")\n",
    "if student < 39:\n",
    "    print(f\"{student_name} \" \" F\")\n",
    "\n"
   ]
  }
 ],
 "metadata": {
  "kernelspec": {
   "display_name": "Python 3",
   "language": "python",
   "name": "python3"
  },
  "language_info": {
   "codemirror_mode": {
    "name": "ipython",
    "version": 3
   },
   "file_extension": ".py",
   "mimetype": "text/x-python",
   "name": "python",
   "nbconvert_exporter": "python",
   "pygments_lexer": "ipython3",
   "version": "3.12.8"
  }
 },
 "nbformat": 4,
 "nbformat_minor": 2
}
