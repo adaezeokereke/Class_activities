{
 "cells": [
  {
   "cell_type": "code",
   "execution_count": 1,
   "metadata": {},
   "outputs": [
    {
     "name": "stdout",
     "output_type": "stream",
     "text": [
      "5 is greater than 3\n"
     ]
    }
   ],
   "source": [
    "#conditional statements allow you control the flow of programs in a clean and compact way.\n",
    "#if..else and elif statements are conditional statements\n",
    "#exampes of #if..else and elif statements\n",
    "if 5 > 3:\n",
    "    print(\"5 is greater than 3\")\n",
    "\n",
    "else:\n",
    "    print(\"5 is not greater than 3\")"
   ]
  },
  {
   "cell_type": "code",
   "execution_count": 2,
   "metadata": {},
   "outputs": [
    {
     "name": "stdout",
     "output_type": "stream",
     "text": [
      "incorrect guess\n"
     ]
    }
   ],
   "source": [
    "a = int(input('Guess a number: '))\n",
    "\n",
    "if a == 1:\n",
    "    print(\"correct guess\")\n",
    "else:\n",
    "    print(\"incorrect guess\") "
   ]
  },
  {
   "cell_type": "code",
   "execution_count": 3,
   "metadata": {},
   "outputs": [
    {
     "name": "stdout",
     "output_type": "stream",
     "text": [
      "a is bigger than b\n"
     ]
    }
   ],
   "source": [
    "a = 100\n",
    "b = 20\n",
    "\n",
    "if b > a:\n",
    "    print(\" b is in fact bigger than a\")\n",
    "else:\n",
    "    print('a is bigger than b')\n",
    "    "
   ]
  },
  {
   "cell_type": "code",
   "execution_count": 2,
   "metadata": {},
   "outputs": [
    {
     "name": "stdout",
     "output_type": "stream",
     "text": [
      "no\n"
     ]
    }
   ],
   "source": [
    "x = 2323\n",
    "y = 509\n",
    "\n",
    "if x < y:\n",
    "    print('yes')\n",
    "else:\n",
    "    print('no')"
   ]
  },
  {
   "cell_type": "code",
   "execution_count": 3,
   "metadata": {},
   "outputs": [
    {
     "name": "stdout",
     "output_type": "stream",
     "text": [
      "Login successful\n"
     ]
    }
   ],
   "source": [
    "saved_password = 123456\n",
    "new_password = int(input(\"Enter your password:  \"))\n",
    "\n",
    "if int(new_password) == saved_password:\n",
    "    print(\"Login successful\")\n",
    "else:\n",
    "    print(\"You're a criminal\")"
   ]
  },
  {
   "cell_type": "code",
   "execution_count": 5,
   "metadata": {},
   "outputs": [
    {
     "name": "stdout",
     "output_type": "stream",
     "text": [
      "Second condition True\n"
     ]
    }
   ],
   "source": [
    "if 4 == 2:\n",
    "    print('First condition True')\n",
    "elif 20 == 20:\n",
    "    print(\"Second condition True\")\n",
    "elif 29 == 29:\n",
    "    print(\"Third condition True\")\n",
    "else:\n",
    "    print(\"None of the above conditions were True\")"
   ]
  },
  {
   "cell_type": "code",
   "execution_count": 7,
   "metadata": {},
   "outputs": [
    {
     "name": "stdout",
     "output_type": "stream",
     "text": [
      " x is greater than 10!\n"
     ]
    }
   ],
   "source": [
    "x = 21\n",
    "\n",
    "if x > 10:\n",
    "    print(\" x is greater than 10!\")\n",
    "elif x < 10:\n",
    "    print(\"x is less than 10!\")\n",
    "elif x > 20:\n",
    "    print(\"x is greater than 20!\")\n",
    "else:\n",
    "    print(\"x is equal to 10\")"
   ]
  },
  {
   "cell_type": "code",
   "execution_count": 3,
   "metadata": {},
   "outputs": [
    {
     "name": "stdout",
     "output_type": "stream",
     "text": [
      "The numbers are equal to each other\n"
     ]
    }
   ],
   "source": [
    "a = int(input(\"Enter a: \"))\n",
    "b = int(input(\"Enter b: \"))\n",
    "if a < b:\n",
    "    print('The greater number is', b)\n",
    "elif a > b:\n",
    "    print('The greater number is', a)\n",
    "else:\n",
    "    print('The numbers are equal to each other')"
   ]
  },
  {
   "cell_type": "markdown",
   "metadata": {},
   "source": [
    "print('enter the following values')\n",
    "a = int(input())\n",
    "b = int(input())\n",
    "c = int(input())\n",
    "d = int(input())\n",
    "\n",
    "print(a)\n",
    "print(b)\n",
    "print(c)\n",
    "print(d)\n",
    "if a >= c:\n",
    "    print('condition 1 is true at this point')\n",
    "elif c == d:\n",
    "    print('condition 2 is true at this point')\n",
    "elif d >= a:\n",
    "    print('condition 3 is true at this point')\n",
    "else:\n",
    "    print('none is true')\n"
   ]
  }
 ],
 "metadata": {
  "kernelspec": {
   "display_name": "Python 3",
   "language": "python",
   "name": "python3"
  },
  "language_info": {
   "codemirror_mode": {
    "name": "ipython",
    "version": 3
   },
   "file_extension": ".py",
   "mimetype": "text/x-python",
   "name": "python",
   "nbconvert_exporter": "python",
   "pygments_lexer": "ipython3",
   "version": "3.12.8"
  }
 },
 "nbformat": 4,
 "nbformat_minor": 2
}
