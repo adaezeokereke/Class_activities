{
 "cells": [
  {
   "cell_type": "code",
   "execution_count": 4,
   "metadata": {},
   "outputs": [],
   "source": [
    "#Functions. Functions are reusable blocks of organized codes\n",
    "\n",
    "#examples of user defined functions.\n",
    "def calc():\n",
    "    a = 24\n",
    "    b = 12\n",
    "    sum = a + b\n",
    "    print(sum)\n",
    "    return  \n",
    "  "
   ]
  },
  {
   "cell_type": "code",
   "execution_count": 5,
   "metadata": {},
   "outputs": [
    {
     "name": "stdout",
     "output_type": "stream",
     "text": [
      "36\n"
     ]
    }
   ],
   "source": [
    "calc()"
   ]
  },
  {
   "cell_type": "code",
   "execution_count": 6,
   "metadata": {},
   "outputs": [],
   "source": [
    "def login():\n",
    "    Firstname = input('Enter your First name: ')\n",
    "    Lastname = input('Enter your Last name: ')\n",
    "    password = int(input('Enter your Password: '))\n",
    "    savedpassword = 1234\n",
    "\n",
    "    if password == savedpassword:\n",
    "        print(f'Login successful {Firstname} {Lastname}')\n",
    "    else:\n",
    "        print('Incorrect Password, Try again')\n",
    "    return    \n",
    "\n"
   ]
  },
  {
   "cell_type": "code",
   "execution_count": null,
   "metadata": {},
   "outputs": [
    {
     "name": "stdout",
     "output_type": "stream",
     "text": [
      "Login successful Maureen Orji\n"
     ]
    }
   ],
   "source": [
    "login()"
   ]
  },
  {
   "cell_type": "code",
   "execution_count": 1,
   "metadata": {},
   "outputs": [],
   "source": [
    "def age():\n",
    "    age = int(input('Enter your age: '))\n",
    "    year = 2024 - age\n",
    "    print(f'You were born in {year}')\n",
    "    return"
   ]
  },
  {
   "cell_type": "code",
   "execution_count": 2,
   "metadata": {},
   "outputs": [
    {
     "name": "stdout",
     "output_type": "stream",
     "text": [
      "You were born in 2004\n"
     ]
    }
   ],
   "source": [
    "age()"
   ]
  },
  {
   "cell_type": "code",
   "execution_count": 3,
   "metadata": {},
   "outputs": [],
   "source": [
    "def age():\n",
    "    age = int(input('Enter your age: '))\n",
    "    year = 2024 - age\n",
    "    print(f'You were born in {year}')\n",
    "    print('You were born in {}'.format(year))\n",
    "    return"
   ]
  },
  {
   "cell_type": "code",
   "execution_count": 4,
   "metadata": {},
   "outputs": [
    {
     "name": "stdout",
     "output_type": "stream",
     "text": [
      "You were born in 2003\n",
      "You were born in 2003\n"
     ]
    }
   ],
   "source": [
    "age()"
   ]
  },
  {
   "cell_type": "code",
   "execution_count": 11,
   "metadata": {},
   "outputs": [
    {
     "name": "stdout",
     "output_type": "stream",
     "text": [
      "My name is John, I am 36\n"
     ]
    }
   ],
   "source": [
    "#string formatting\n",
    "\n",
    "age = \"36\"\n",
    "txt = \"My name is John, I am \" + age\n",
    "print(txt)"
   ]
  },
  {
   "cell_type": "code",
   "execution_count": 6,
   "metadata": {},
   "outputs": [
    {
     "name": "stdout",
     "output_type": "stream",
     "text": [
      "My name is John, I am 36\n"
     ]
    }
   ],
   "source": [
    "#using the f strings format method\n",
    "#examples\n",
    "\n",
    "age = 36\n",
    "txt = f\"My name is John, I am {age}\"\n",
    "print(txt)"
   ]
  },
  {
   "cell_type": "code",
   "execution_count": 7,
   "metadata": {},
   "outputs": [
    {
     "name": "stdout",
     "output_type": "stream",
     "text": [
      "The price is 59 dollars\n"
     ]
    }
   ],
   "source": [
    "price = 59\n",
    "txt = f\"The price is {price} dollars\"\n",
    "print(txt)"
   ]
  },
  {
   "cell_type": "code",
   "execution_count": 10,
   "metadata": {},
   "outputs": [
    {
     "name": "stdout",
     "output_type": "stream",
     "text": [
      "The price is 59 dollars\n"
     ]
    }
   ],
   "source": [
    "price = 59\n",
    "txt = f\"The price is {price} dollars\"\n",
    "print(txt)"
   ]
  },
  {
   "cell_type": "code",
   "execution_count": 9,
   "metadata": {},
   "outputs": [
    {
     "name": "stdout",
     "output_type": "stream",
     "text": [
      "The price is 1180 dollars\n"
     ]
    }
   ],
   "source": [
    "txt = f\"The price is {20 * 59} dollars\"\n",
    "print(txt)"
   ]
  },
  {
   "cell_type": "code",
   "execution_count": 12,
   "metadata": {},
   "outputs": [],
   "source": [
    "#defining a function\n",
    "\n",
    "def sum():\n",
    "    x = 20\n",
    "    y = 30\n",
    "    sum = x + y\n",
    "    print(sum)"
   ]
  },
  {
   "cell_type": "code",
   "execution_count": 14,
   "metadata": {},
   "outputs": [
    {
     "name": "stdout",
     "output_type": "stream",
     "text": [
      "50\n"
     ]
    }
   ],
   "source": [
    "sum()"
   ]
  },
  {
   "cell_type": "code",
   "execution_count": 16,
   "metadata": {},
   "outputs": [],
   "source": [
    "def sum(a,b):\n",
    "    return\n"
   ]
  },
  {
   "cell_type": "code",
   "execution_count": 17,
   "metadata": {},
   "outputs": [],
   "source": [
    "sum(2,4)"
   ]
  },
  {
   "cell_type": "code",
   "execution_count": 15,
   "metadata": {},
   "outputs": [],
   "source": [
    "#passing values in a function\n",
    "#examples\n",
    "\n",
    "def change_name(name):\n",
    "    print(\"The passed name is {}\".format(name))\n",
    "    #change the name\n",
    "    name = \"Harry Potter\"\n",
    "    print(\"The new name in this function is {}\".format(name))\n",
    "    return\n"
   ]
  },
  {
   "cell_type": "code",
   "execution_count": 19,
   "metadata": {},
   "outputs": [],
   "source": [
    "x = \"awesome\"\n",
    "\n",
    "def myfunc():\n",
    "    print(\"Python is \" + x)\n",
    "    return"
   ]
  },
  {
   "cell_type": "code",
   "execution_count": 20,
   "metadata": {},
   "outputs": [
    {
     "name": "stdout",
     "output_type": "stream",
     "text": [
      "Python is awesome\n"
     ]
    }
   ],
   "source": [
    "myfunc()"
   ]
  },
  {
   "cell_type": "code",
   "execution_count": 22,
   "metadata": {},
   "outputs": [],
   "source": [
    "x = \"fantastic\"\n",
    " \n",
    "def myfunc():\n",
    "    x = \"awesome\"\n",
    "    print(\"Python is \" + x)\n",
    "    return"
   ]
  },
  {
   "cell_type": "code",
   "execution_count": 24,
   "metadata": {},
   "outputs": [
    {
     "name": "stdout",
     "output_type": "stream",
     "text": [
      "Python is awesome\n",
      "Pyton is fantastic\n"
     ]
    }
   ],
   "source": [
    "myfunc()\n",
    "\n",
    "print(\"Pyton is \" + x)"
   ]
  },
  {
   "cell_type": "code",
   "execution_count": 2,
   "metadata": {},
   "outputs": [],
   "source": [
    "#Function arguments\n",
    "\n",
    "#1) Required arguments\n",
    "def change_name(name):\n",
    "    print(\"The passed name is {}\".format(name))\n",
    "\n",
    "    name = \"Harry Potter\"\n",
    "    print(\"The new name in this function is {}\".format(name))\n",
    "    return"
   ]
  },
  {
   "cell_type": "code",
   "execution_count": 4,
   "metadata": {},
   "outputs": [
    {
     "name": "stdout",
     "output_type": "stream",
     "text": [
      "The passed name is John Snow\n",
      "The new name in this function is Harry Potter\n"
     ]
    }
   ],
   "source": [
    "name = \"John Snow\"\n",
    "change_name(name)"
   ]
  },
  {
   "cell_type": "code",
   "execution_count": 5,
   "metadata": {},
   "outputs": [],
   "source": [
    "name = \"Lisa\"\n",
    "\n",
    "def username():\n",
    "    name = \"John\"\n",
    "    print(name)\n",
    "    return"
   ]
  },
  {
   "cell_type": "code",
   "execution_count": 6,
   "metadata": {},
   "outputs": [
    {
     "name": "stdout",
     "output_type": "stream",
     "text": [
      "John\n",
      "Lisa\n"
     ]
    }
   ],
   "source": [
    "username()\n",
    "print(name)"
   ]
  },
  {
   "cell_type": "code",
   "execution_count": 2,
   "metadata": {},
   "outputs": [],
   "source": [
    "def login():\n",
    "    firstname = input('Enter first name: ')\n",
    "    lastname = input('Enter last namea: ')\n",
    "    password = int(input('Enter password: '))\n",
    "    \n",
    "    savedpassword = 3950\n",
    "\n",
    "    if password == savedpassword:\n",
    "        print(f'login successful {firstname} {lastname}')\n",
    "\n",
    "    else:\n",
    "        print('incorrect password. try again')\n",
    "    return"
   ]
  },
  {
   "cell_type": "code",
   "execution_count": 4,
   "metadata": {},
   "outputs": [
    {
     "name": "stdout",
     "output_type": "stream",
     "text": [
      "incorrect password. try again\n"
     ]
    }
   ],
   "source": [
    "login()"
   ]
  },
  {
   "cell_type": "code",
   "execution_count": 5,
   "metadata": {},
   "outputs": [],
   "source": [
    "#EXAMPLE OF GLOBAL VARIABLES\n",
    "\n",
    "number = 14\n",
    "\n",
    "def add_num(a, b):\n",
    "    number = a + b\n",
    "    print(number)\n",
    "    return"
   ]
  },
  {
   "cell_type": "code",
   "execution_count": 6,
   "metadata": {},
   "outputs": [
    {
     "name": "stdout",
     "output_type": "stream",
     "text": [
      "30\n"
     ]
    }
   ],
   "source": [
    "add_num(10,20)"
   ]
  },
  {
   "cell_type": "code",
   "execution_count": 7,
   "metadata": {},
   "outputs": [
    {
     "name": "stdout",
     "output_type": "stream",
     "text": [
      "25\n"
     ]
    }
   ],
   "source": [
    "add_num(12, 13)"
   ]
  },
  {
   "cell_type": "code",
   "execution_count": 8,
   "metadata": {},
   "outputs": [
    {
     "name": "stdout",
     "output_type": "stream",
     "text": [
      "14\n"
     ]
    }
   ],
   "source": [
    "print(number)"
   ]
  },
  {
   "cell_type": "code",
   "execution_count": 9,
   "metadata": {},
   "outputs": [],
   "source": [
    "def sum(a, b, c, d):\n",
    "    print(a, b, c, d)\n",
    "    return"
   ]
  },
  {
   "cell_type": "code",
   "execution_count": 13,
   "metadata": {},
   "outputs": [
    {
     "name": "stdout",
     "output_type": "stream",
     "text": [
      "20 30 12 14\n"
     ]
    }
   ],
   "source": [
    "sum(20, 30, 12, 14)"
   ]
  },
  {
   "cell_type": "code",
   "execution_count": null,
   "metadata": {},
   "outputs": [],
   "source": [
    "#an example of required arguments.\n",
    "\n",
    "def name(firstname, lastname, name):\n",
    "    print(f\"the passed name is {name}\")\n",
    "    #change the name\n",
    "    #name = \"Abraham Okeke\"\n",
    "    print(f\"My name in this function is {firstname +  lastname}\")\n",
    "    return"
   ]
  },
  {
   "cell_type": "code",
   "execution_count": 29,
   "metadata": {},
   "outputs": [
    {
     "name": "stdout",
     "output_type": "stream",
     "text": [
      "the passed name is ada\n",
      "My name in this function is Abraham Okeke \n"
     ]
    }
   ],
   "source": [
    "name(\"Abraham\", \" Okeke \",\"ada\")"
   ]
  },
  {
   "cell_type": "code",
   "execution_count": null,
   "metadata": {},
   "outputs": [],
   "source": [
    "#an example of default argument\n",
    "\n",
    "def courses(science = \"Chemistry\", arts = \"Literature\"):\n",
    "    print(f\"The science course is {science}, while the arts course is {arts}\")\n",
    "    return"
   ]
  },
  {
   "cell_type": "code",
   "execution_count": 40,
   "metadata": {},
   "outputs": [
    {
     "name": "stdout",
     "output_type": "stream",
     "text": [
      "The science course is physics, while the arts course is Commerce\n"
     ]
    }
   ],
   "source": [
    "courses(\"physics\", \"Commerce\")"
   ]
  },
  {
   "cell_type": "code",
   "execution_count": 41,
   "metadata": {},
   "outputs": [
    {
     "name": "stdout",
     "output_type": "stream",
     "text": [
      "The science course is Chemistry, while the arts course is Literature\n"
     ]
    }
   ],
   "source": [
    "courses()"
   ]
  },
  {
   "cell_type": "code",
   "execution_count": null,
   "metadata": {},
   "outputs": [
    {
     "name": "stdout",
     "output_type": "stream",
     "text": [
      "The youngest child is Emil\n",
      "The mid child is Tobias\n",
      "The eldest child is Linus\n"
     ]
    }
   ],
   "source": [
    "#an example of the keyword argument\n",
    "def my_function(child3, child2, child1):\n",
    "    print(\"The youngest child is \" + child1)\n",
    "    print(\"The mid child is \" + child2)\n",
    "    print(\"The eldest child is \" + child3)\n",
    "    return\n",
    "\n",
    "my_function(child1 = \"Emil\", child2 = \"Tobias\", child3 = \"Linus\")"
   ]
  },
  {
   "cell_type": "code",
   "execution_count": 34,
   "metadata": {},
   "outputs": [
    {
     "name": "stdout",
     "output_type": "stream",
     "text": [
      "The youngest child is Emil\n",
      "The mid child is Linus\n",
      "The eldest child is Tobias\n"
     ]
    }
   ],
   "source": [
    "my_function(\"Tobias\", \"Linus\", \"Emil\")"
   ]
  },
  {
   "cell_type": "code",
   "execution_count": 36,
   "metadata": {},
   "outputs": [
    {
     "name": "stdout",
     "output_type": "stream",
     "text": [
      "The youngest child is Lisa\n",
      "The mid child is Eze\n",
      "The eldest child is Prince\n"
     ]
    }
   ],
   "source": [
    "my_function(child1 = \"Lisa\", child3 = \"Prince\", child2 = \"Eze\")"
   ]
  },
  {
   "cell_type": "code",
   "execution_count": 42,
   "metadata": {},
   "outputs": [
    {
     "name": "stdout",
     "output_type": "stream",
     "text": [
      "Age  90\n"
     ]
    }
   ],
   "source": [
    "def printinfo(age = 25):\n",
    "    \"This prints the info about a person\"\n",
    "    print(\"Age \", age)\n",
    "    return\n",
    "\n",
    "printinfo(90)"
   ]
  },
  {
   "cell_type": "code",
   "execution_count": 43,
   "metadata": {},
   "outputs": [
    {
     "name": "stdout",
     "output_type": "stream",
     "text": [
      "Age  25\n"
     ]
    }
   ],
   "source": [
    "printinfo()"
   ]
  },
  {
   "cell_type": "code",
   "execution_count": 1,
   "metadata": {},
   "outputs": [],
   "source": [
    "def results(*scores):\n",
    "    for s in scores:\n",
    "        print(s)\n",
    "        \n",
    "    return"
   ]
  },
  {
   "cell_type": "code",
   "execution_count": 2,
   "metadata": {},
   "outputs": [
    {
     "name": "stdout",
     "output_type": "stream",
     "text": [
      "20\n",
      "30\n"
     ]
    }
   ],
   "source": [
    "results(20, 30)"
   ]
  },
  {
   "cell_type": "code",
   "execution_count": 3,
   "metadata": {},
   "outputs": [
    {
     "name": "stdout",
     "output_type": "stream",
     "text": [
      "20\n"
     ]
    }
   ],
   "source": [
    "results(20)"
   ]
  },
  {
   "cell_type": "code",
   "execution_count": 5,
   "metadata": {},
   "outputs": [
    {
     "name": "stdout",
     "output_type": "stream",
     "text": [
      "The passed name is Ada\n",
      "The new name in this function is Harry potter\n"
     ]
    }
   ],
   "source": [
    "#example of required arguments\n",
    "def change_name(name,age):\n",
    "    print(\"The passed name is {}\" .format(name))\n",
    "\n",
    "    #changing the name\n",
    "    name = \"Harry potter\"\n",
    "    print(\"The new name in this function is {}\".format(name))\n",
    "    return\n",
    "\n",
    "change_name(\"Ada\", 12)"
   ]
  },
  {
   "cell_type": "code",
   "execution_count": 6,
   "metadata": {},
   "outputs": [
    {
     "name": "stdout",
     "output_type": "stream",
     "text": [
      "The passed name is ada\n",
      "The new name in this function is Harry potter\n"
     ]
    }
   ],
   "source": [
    "change_name(\"ada\", 12)"
   ]
  },
  {
   "cell_type": "code",
   "execution_count": 8,
   "metadata": {},
   "outputs": [
    {
     "name": "stdout",
     "output_type": "stream",
     "text": [
      "The youngest child is Emil\n",
      "The mid child is Tobias\n",
      "The eldest child is Linus\n"
     ]
    }
   ],
   "source": [
    "#example of keyword argument\n",
    "\n",
    "def my_function(child3, child2, child1):\n",
    "    print(\"The youngest child is \" + child1)\n",
    "    print(\"The mid child is \" + child2)\n",
    "    print(\"The eldest child is \" + child3)\n",
    "    return\n",
    "my_function(child1 = \"Emil\", child2 =\"Tobias\", child3 =\"Linus\")"
   ]
  },
  {
   "cell_type": "code",
   "execution_count": 10,
   "metadata": {},
   "outputs": [],
   "source": [
    "#example of default argument\n",
    "\n",
    "def courses(Science = \"Chemistry\", arts = \"Literature\"):\n",
    "    print(f\"The science course is {Science}, while the arts course is {arts}\")\n",
    "    return\n",
    "\n",
    "    courses(Science, arts)"
   ]
  },
  {
   "cell_type": "code",
   "execution_count": 11,
   "metadata": {},
   "outputs": [
    {
     "name": "stdout",
     "output_type": "stream",
     "text": [
      "The science course is Chemistry, while the arts course is Literature\n"
     ]
    }
   ],
   "source": [
    "courses()"
   ]
  },
  {
   "cell_type": "code",
   "execution_count": 12,
   "metadata": {},
   "outputs": [
    {
     "name": "stdout",
     "output_type": "stream",
     "text": [
      "The science course is Physics, while the arts course is History\n"
     ]
    }
   ],
   "source": [
    "courses(\"Physics\", \"History\")"
   ]
  },
  {
   "cell_type": "code",
   "execution_count": 16,
   "metadata": {},
   "outputs": [],
   "source": [
    "#example of variable-length arguments\n",
    "def fun(*args):\n",
    "    result = \" \".join(args)\n",
    "    print(result)\n",
    "    return"
   ]
  },
  {
   "cell_type": "code",
   "execution_count": 17,
   "metadata": {},
   "outputs": [
    {
     "name": "stdout",
     "output_type": "stream",
     "text": [
      "Lisa is beautiful\n"
     ]
    }
   ],
   "source": [
    "fun(\"Lisa\",\"is\",\"beautiful\")"
   ]
  },
  {
   "cell_type": "code",
   "execution_count": 25,
   "metadata": {},
   "outputs": [],
   "source": [
    "def state(*capital):\n",
    "    for c in capital:\n",
    "        print(c)\n",
    "    return"
   ]
  },
  {
   "cell_type": "code",
   "execution_count": 26,
   "metadata": {},
   "outputs": [
    {
     "name": "stdout",
     "output_type": "stream",
     "text": [
      "Abia\n",
      "Akwa ibom\n",
      "Enugu\n",
      "Kwara\n",
      "Lagos\n"
     ]
    }
   ],
   "source": [
    "state(\"Abia\", \"Akwa ibom\", \"Enugu\", \"Kwara\", \"Lagos\")"
   ]
  },
  {
   "cell_type": "code",
   "execution_count": 3,
   "metadata": {},
   "outputs": [
    {
     "name": "stdout",
     "output_type": "stream",
     "text": [
      "Lisa\n",
      "At first the name in this function is Lisa\n",
      "The name in this function is Jacob\n",
      "The name at this point is Jacob\n"
     ]
    }
   ],
   "source": [
    "name = \"Lisa\"\n",
    "print(name)\n",
    "\n",
    "def test():\n",
    "    global name\n",
    "    print(f\"At first the name in this function is {name}\")\n",
    "    name = \"Jacob\"\n",
    "    print(f\"The name in this function is {name}\")\n",
    "    return\n",
    "test()\n",
    "print(f\"The name at this point is {name}\")\n",
    "\n"
   ]
  },
  {
   "cell_type": "code",
   "execution_count": 2,
   "metadata": {},
   "outputs": [
    {
     "data": {
      "text/plain": [
       "'Lisa'"
      ]
     },
     "execution_count": 2,
     "metadata": {},
     "output_type": "execute_result"
    }
   ],
   "source": [
    "name"
   ]
  },
  {
   "cell_type": "code",
   "execution_count": 6,
   "metadata": {},
   "outputs": [
    {
     "name": "stdout",
     "output_type": "stream",
     "text": [
      "Ada\n",
      "Prince\n",
      "Joseph\n",
      "Esther\n",
      "First\n"
     ]
    }
   ],
   "source": [
    "def name(*Joy):\n",
    "    for names in Joy:\n",
    "        print(names)\n",
    "    return\n",
    "\n",
    "name('Ada','Prince','Joseph','Esther','First')\n",
    "\n",
    "    "
   ]
  },
  {
   "cell_type": "code",
   "execution_count": 8,
   "metadata": {},
   "outputs": [
    {
     "name": "stdout",
     "output_type": "stream",
     "text": [
      "3\n",
      "4\n",
      "5\n",
      "6\n",
      "7\n"
     ]
    }
   ],
   "source": [
    "def list(*num):\n",
    "    for digits in num:\n",
    "        print(digits)\n",
    "    return \n",
    "\n",
    "list(3, 4, 5, 6, 7)  "
   ]
  },
  {
   "cell_type": "code",
   "execution_count": 9,
   "metadata": {},
   "outputs": [
    {
     "name": "stdout",
     "output_type": "stream",
     "text": [
      "{'okeke': 'Ada', 'Essien': 'Grace'}\n"
     ]
    }
   ],
   "source": [
    "def name(**first_names):\n",
    "    print(first_names)\n",
    "    return\n",
    "\n",
    "name(okeke = 'Ada', Essien = 'Grace')"
   ]
  },
  {
   "cell_type": "code",
   "execution_count": 10,
   "metadata": {},
   "outputs": [
    {
     "name": "stdout",
     "output_type": "stream",
     "text": [
      "{'Ada': 'Nigerian', 'Pedro': 'Russian'}\n"
     ]
    }
   ],
   "source": [
    "def People(**Nationality):\n",
    "    print(Nationality)\n",
    "    return\n",
    "\n",
    "People(Ada = 'Nigerian', Pedro = 'Russian')"
   ]
  },
  {
   "cell_type": "code",
   "execution_count": null,
   "metadata": {},
   "outputs": [],
   "source": []
  }
 ],
 "metadata": {
  "kernelspec": {
   "display_name": "Python 3",
   "language": "python",
   "name": "python3"
  },
  "language_info": {
   "codemirror_mode": {
    "name": "ipython",
    "version": 3
   },
   "file_extension": ".py",
   "mimetype": "text/x-python",
   "name": "python",
   "nbconvert_exporter": "python",
   "pygments_lexer": "ipython3",
   "version": "3.12.9"
  }
 },
 "nbformat": 4,
 "nbformat_minor": 2
}
