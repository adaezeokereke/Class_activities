{
 "cells": [
  {
   "cell_type": "code",
   "execution_count": 1,
   "metadata": {},
   "outputs": [],
   "source": [
    "#assigning variables\n",
    "\n",
    "first_name =\"Lisa\"\n",
    "age = 23\n",
    "Cgpa = 4.56\n",
    "present = True"
   ]
  },
  {
   "cell_type": "code",
   "execution_count": 2,
   "metadata": {},
   "outputs": [
    {
     "name": "stdout",
     "output_type": "stream",
     "text": [
      "Lisa Lispire\n"
     ]
    }
   ],
   "source": [
    "#string concatenation\n",
    "\n",
    "First_name = \"Lisa\"\n",
    "Last_name = \"Lispire\"\n",
    "full_name = First_name + \" \" + Last_name\n",
    "\n",
    "\n",
    "print(full_name)"
   ]
  },
  {
   "cell_type": "code",
   "execution_count": 5,
   "metadata": {},
   "outputs": [
    {
     "name": "stdout",
     "output_type": "stream",
     "text": [
      "Social Science\n"
     ]
    }
   ],
   "source": [
    "Course = \"Social\"\n",
    "course_name = \"Science\"\n",
    "full_name = Course + \" \" + course_name\n",
    "\n",
    "print(full_name)"
   ]
  },
  {
   "cell_type": "code",
   "execution_count": 6,
   "metadata": {},
   "outputs": [
    {
     "name": "stdout",
     "output_type": "stream",
     "text": [
      "my name is Eva\n",
      "Nice to meet you Eva, I was told you are +1 today. Congratulations Eva\n"
     ]
    }
   ],
   "source": [
    "#formatting string\n",
    "\n",
    "first_name = \"Eva\"\n",
    "print('my name is {}'.format(first_name))\n",
    "print('Nice to meet you {}, I was told you are +{} today. Congratulations {}'.format(first_name,1,first_name))"
   ]
  },
  {
   "cell_type": "code",
   "execution_count": 7,
   "metadata": {},
   "outputs": [
    {
     "data": {
      "text/plain": [
       "['apple', 'Kiwi', 'banana', 'orange']"
      ]
     },
     "execution_count": 7,
     "metadata": {},
     "output_type": "execute_result"
    }
   ],
   "source": [
    "#LISTS\n",
    "\n",
    "Fruits = ['apple', 'Kiwi', 'banana', \"orange\"]\n",
    "\n",
    "Fruits"
   ]
  },
  {
   "cell_type": "code",
   "execution_count": 8,
   "metadata": {},
   "outputs": [
    {
     "data": {
      "text/plain": [
       "'banana'"
      ]
     },
     "execution_count": 8,
     "metadata": {},
     "output_type": "execute_result"
    }
   ],
   "source": [
    "Fruits[2]"
   ]
  },
  {
   "cell_type": "code",
   "execution_count": 9,
   "metadata": {},
   "outputs": [
    {
     "name": "stdout",
     "output_type": "stream",
     "text": [
      "['Sugar', ['Cornflakes', 'Golden morn', 'Granola', 'Muesli'], ['Strawberry', 'Orange'], ['bloody mary', 'Lady killer']]\n"
     ]
    }
   ],
   "source": [
    "#nested lists\n",
    "\n",
    "Food  = []\n",
    "Food = ['Cereal', 'Fruits', 'Drinks']\n",
    "Food = ['Sugar', ['Cornflakes', 'Golden morn', 'Granola','Muesli'], ['Strawberry', 'Orange'], ['bloody mary', 'Lady killer']]\n",
    "\n",
    "print(Food)"
   ]
  },
  {
   "cell_type": "code",
   "execution_count": 10,
   "metadata": {},
   "outputs": [
    {
     "name": "stdout",
     "output_type": "stream",
     "text": [
      "[['Cornflakes', 'Golden morn', 'Granola', 'Muesli'], ['bloody mary', 'Lady killer']]\n"
     ]
    }
   ],
   "source": [
    "print(Food[1::2])"
   ]
  },
  {
   "cell_type": "code",
   "execution_count": 12,
   "metadata": {},
   "outputs": [
    {
     "data": {
      "text/plain": [
       "'Cornflakes'"
      ]
     },
     "execution_count": 12,
     "metadata": {},
     "output_type": "execute_result"
    }
   ],
   "source": [
    "Food[1][0]"
   ]
  },
  {
   "cell_type": "code",
   "execution_count": 13,
   "metadata": {},
   "outputs": [
    {
     "name": "stdout",
     "output_type": "stream",
     "text": [
      "['Lisa', 23, 'Data']\n"
     ]
    }
   ],
   "source": [
    "student = ['Lisa', 23, 'Data']\n",
    "print(student)\n"
   ]
  },
  {
   "cell_type": "code",
   "execution_count": 14,
   "metadata": {},
   "outputs": [
    {
     "name": "stdout",
     "output_type": "stream",
     "text": [
      "['Lisa', 25, 'Data']\n"
     ]
    }
   ],
   "source": [
    "student[1] = 25\n",
    "print(student)"
   ]
  }
 ],
 "metadata": {
  "kernelspec": {
   "display_name": "Python 3",
   "language": "python",
   "name": "python3"
  },
  "language_info": {
   "codemirror_mode": {
    "name": "ipython",
    "version": 3
   },
   "file_extension": ".py",
   "mimetype": "text/x-python",
   "name": "python",
   "nbconvert_exporter": "python",
   "pygments_lexer": "ipython3",
   "version": "3.12.8"
  }
 },
 "nbformat": 4,
 "nbformat_minor": 2
}
